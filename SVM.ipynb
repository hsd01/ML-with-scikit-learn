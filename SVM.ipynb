{
 "cells": [
  {
   "cell_type": "markdown",
   "metadata": {},
   "source": [
    "# Support Vector machine \n"
   ]
  },
  {
   "cell_type": "markdown",
   "metadata": {},
   "source": [
    "Effective high dimensional spaces\n",
    "MAny kernel functions\n",
    "Classification and regression"
   ]
  },
  {
   "cell_type": "code",
   "execution_count": 5,
   "metadata": {},
   "outputs": [],
   "source": [
    "import numpy as np\n",
    "import pandas as pd\n",
    "#from sklearn import neighbors, metrics\n",
    "from sklearn.model_selection import train_test_split\n",
    "#from sklearn.preprocessing import LabelEncoder\n",
    "from sklearn import datasets\n",
    "from sklearn import svm\n",
    "from sklearn.metrics import accuracy_score"
   ]
  },
  {
   "cell_type": "code",
   "execution_count": 6,
   "metadata": {},
   "outputs": [
    {
     "name": "stdout",
     "output_type": "stream",
     "text": [
      "SVC()\n"
     ]
    }
   ],
   "source": [
    "iris = datasets.load_iris()\n",
    "\n",
    "x = iris.data\n",
    "y = iris.target\n",
    "\n",
    "classes = ['Iris Setosa', 'Iris Versicolour', 'Iris Virginica']\n",
    "\n",
    "x_train, x_test, y_train, y_test = train_test_split(x,y,test_size=0.2)\n",
    "\n",
    "model = svm.SVC()\n",
    "\n",
    "model.fit(x_train, y_train)\n",
    "\n",
    "print(model)\n"
   ]
  },
  {
   "cell_type": "code",
   "execution_count": 8,
   "metadata": {},
   "outputs": [
    {
     "name": "stdout",
     "output_type": "stream",
     "text": [
      "Predictions:  [2 1 0 0 0 1 1 0 0 2 2 0 0 2 2 0 2 0 1 0 2 0 1 0 1 0 1 2 2 0]\n",
      "actual:  [2 1 0 0 0 1 2 0 0 2 2 0 0 2 2 0 1 0 1 0 2 0 1 0 1 0 1 2 2 0]\n",
      "accuracy:  0.9333333333333333\n"
     ]
    }
   ],
   "source": [
    "predictions = model.predict(x_test)\n",
    "acc = accuracy_score(y_test, predictions)\n",
    "\n",
    "print(\"Predictions: \", predictions)\n",
    "print(\"actual: \", y_test)\n",
    "print(\"accuracy: \", acc)\n"
   ]
  },
  {
   "cell_type": "code",
   "execution_count": 9,
   "metadata": {},
   "outputs": [
    {
     "name": "stdout",
     "output_type": "stream",
     "text": [
      "Iris Virginica\n",
      "Iris Versicolour\n",
      "Iris Setosa\n",
      "Iris Setosa\n",
      "Iris Setosa\n",
      "Iris Versicolour\n",
      "Iris Versicolour\n",
      "Iris Setosa\n",
      "Iris Setosa\n",
      "Iris Virginica\n",
      "Iris Virginica\n",
      "Iris Setosa\n",
      "Iris Setosa\n",
      "Iris Virginica\n",
      "Iris Virginica\n",
      "Iris Setosa\n",
      "Iris Virginica\n",
      "Iris Setosa\n",
      "Iris Versicolour\n",
      "Iris Setosa\n",
      "Iris Virginica\n",
      "Iris Setosa\n",
      "Iris Versicolour\n",
      "Iris Setosa\n",
      "Iris Versicolour\n",
      "Iris Setosa\n",
      "Iris Versicolour\n",
      "Iris Virginica\n",
      "Iris Virginica\n",
      "Iris Setosa\n"
     ]
    }
   ],
   "source": [
    "for i in range(len(predictions)):\n",
    "    print(classes[predictions[i]])"
   ]
  },
  {
   "cell_type": "code",
   "execution_count": 10,
   "metadata": {},
   "outputs": [
    {
     "name": "stdout",
     "output_type": "stream",
     "text": [
      "Iris Virginica\n",
      "Iris Versicolour\n",
      "Iris Setosa\n",
      "Iris Setosa\n",
      "Iris Setosa\n",
      "Iris Versicolour\n",
      "Iris Versicolour\n",
      "Iris Setosa\n",
      "Iris Setosa\n",
      "Iris Virginica\n",
      "Iris Virginica\n",
      "Iris Setosa\n",
      "Iris Setosa\n",
      "Iris Virginica\n",
      "Iris Virginica\n",
      "Iris Setosa\n",
      "Iris Virginica\n",
      "Iris Setosa\n",
      "Iris Versicolour\n",
      "Iris Setosa\n",
      "Iris Virginica\n",
      "Iris Setosa\n",
      "Iris Versicolour\n",
      "Iris Setosa\n",
      "Iris Versicolour\n",
      "Iris Setosa\n",
      "Iris Versicolour\n",
      "Iris Virginica\n",
      "Iris Virginica\n",
      "Iris Setosa\n"
     ]
    }
   ],
   "source": [
    "for i, prediction in enumerate(predictions):\n",
    "    print(classes[predictions[i]])"
   ]
  },
  {
   "cell_type": "code",
   "execution_count": null,
   "metadata": {},
   "outputs": [],
   "source": []
  }
 ],
 "metadata": {
  "kernelspec": {
   "display_name": "Python 3",
   "language": "python",
   "name": "python3"
  },
  "language_info": {
   "codemirror_mode": {
    "name": "ipython",
    "version": 3
   },
   "file_extension": ".py",
   "mimetype": "text/x-python",
   "name": "python",
   "nbconvert_exporter": "python",
   "pygments_lexer": "ipython3",
   "version": "3.8.5"
  }
 },
 "nbformat": 4,
 "nbformat_minor": 4
}
